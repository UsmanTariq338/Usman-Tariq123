{
 "cells": [
  {
   "cell_type": "markdown",
   "id": "a6e1ea75-a315-4f1e-890a-105282ef91ad",
   "metadata": {},
   "source": [
    "# AI LAB -- WEEK 2"
   ]
  },
  {
   "cell_type": "markdown",
   "id": "4da7ecc8-ad2b-480f-87d8-37e4d2fad51a",
   "metadata": {},
   "source": [
    "## Task 1: Greater Number (with tie)"
   ]
  },
  {
   "cell_type": "code",
   "execution_count": 5,
   "id": "28d73dcb-7b54-4e40-b8c7-1293792ea894",
   "metadata": {},
   "outputs": [
    {
     "name": "stdout",
     "output_type": "stream",
     "text": [
      "Enter first number:  10\n",
      "Enter second number:  20\n"
     ]
    },
    {
     "name": "stdout",
     "output_type": "stream",
     "text": [
      "Greater number: 20\n",
      "Absolute difference: 10\n"
     ]
    }
   ],
   "source": [
    "# input two integers and compare\n",
    "a = int(input(\"Enter first number: \"))\n",
    "b = int(input(\"Enter second number: \"))\n",
    "\n",
    "if a > b:\n",
    "    print(\"Greater number:\", a)\n",
    "elif b > a:\n",
    "    print(\"Greater number:\", b)\n",
    "else:\n",
    "    print(\"Both are equal:\", a)\n",
    "\n",
    "# Absolute difference between the two numbers\n",
    "if a > b:\n",
    "    print(\"Absolute difference: \", a - b)\n",
    "else:\n",
    "    print(\"Absolute difference:\", b - a)"
   ]
  },
  {
   "cell_type": "markdown",
   "id": "8bbe689f-b752-40f6-8110-87274247a70f",
   "metadata": {},
   "source": [
    "## Task 2: Grading System"
   ]
  },
  {
   "cell_type": "code",
   "execution_count": 18,
   "id": "9dbb1068-f931-4de0-adbd-e1412394ab1c",
   "metadata": {},
   "outputs": [
    {
     "name": "stdout",
     "output_type": "stream",
     "text": [
      "Enter marks (0 to 100):  90\n"
     ]
    },
    {
     "name": "stdout",
     "output_type": "stream",
     "text": [
      "Grade A+\n"
     ]
    }
   ],
   "source": [
    "# input marks (0 to 100) and print grade\n",
    "\n",
    "marks = int(input(\"Enter marks (0 to 100): \"))\n",
    "\n",
    "if marks < 0 or marks > 100:\n",
    "    print(\"Invalid marks. Please enter between 0 and 100.\")\n",
    "elif marks >= 90:\n",
    "    print(\"Grade A+\")\n",
    "elif marks >= 80:\n",
    "    print(\"Grade A - Excellent\")\n",
    "elif marks >= 60:\n",
    "    print(\"Grade B - Good\")\n",
    "elif marks >= 50:\n",
    "    print(\"Grade C - Pass\")\n",
    "else:\n",
    "    print(\"Fail - Needs Improvements\")"
   ]
  },
  {
   "cell_type": "markdown",
   "id": "4ff56ced-7101-43ed-b28e-c0191d5dab5c",
   "metadata": {},
   "source": [
    "## Task 3: Even or Odd (single number)"
   ]
  },
  {
   "cell_type": "code",
   "execution_count": 23,
   "id": "beb167e5-84da-462f-af78-ea6327e44516",
   "metadata": {},
   "outputs": [
    {
     "name": "stdout",
     "output_type": "stream",
     "text": [
      "Enter a numebr:  10\n"
     ]
    },
    {
     "name": "stdout",
     "output_type": "stream",
     "text": [
      "2 4 6 8 10 "
     ]
    }
   ],
   "source": [
    "# input number from user\n",
    "N = int(input(\"Enter a numebr: \"))\n",
    "\n",
    "# Print all the even number form 1 to N\n",
    "for i in range(1, N+1):\n",
    "    # Check the number is even or odd\n",
    "    if i % 2 == 0:\n",
    "        print(f\"{i} \", end=\"\")"
   ]
  },
  {
   "cell_type": "markdown",
   "id": "8e100a22-6a7e-4e6d-9196-7fc374975650",
   "metadata": {},
   "source": [
    "## Task 4: Simple Login (3 attempts)"
   ]
  },
  {
   "cell_type": "code",
   "execution_count": 29,
   "id": "cc5dd642-a446-48cf-9229-f1320673179d",
   "metadata": {},
   "outputs": [
    {
     "name": "stdout",
     "output_type": "stream",
     "text": [
      "Username:  admin\n",
      "Password:  1234\n"
     ]
    },
    {
     "name": "stdout",
     "output_type": "stream",
     "text": [
      "Login Successful ✅\n"
     ]
    },
    {
     "name": "stdout",
     "output_type": "stream",
     "text": [
      "Secret PIN:  1245\n"
     ]
    },
    {
     "name": "stdout",
     "output_type": "stream",
     "text": [
      "Access Granted\n"
     ]
    }
   ],
   "source": [
    " # Hard coded demo credentials\n",
    "CURRENT_USER = \"admin\"\n",
    "CURRENT_PASS = \"1234\"\n",
    "secret_pin = \"1245\"\n",
    "\n",
    "attempts = 3\n",
    "\n",
    "while attempts > 0:\n",
    "    u = input(\"Username: \")\n",
    "    p = input(\"Password: \")\n",
    "\n",
    "    if u == CURRENT_USER and p == CURRENT_PASS:\n",
    "        print(\"Login Successful ✅\")\n",
    "        s = input(\"Secret PIN: \")\n",
    "        if s == secret_pin:\n",
    "            print(\"Access Granted\")\n",
    "        else:\n",
    "            print(\"Invalid secret pin. Access not granted\") \n",
    "        break\n",
    "    else:\n",
    "        attempts -= 1\n",
    "if attempts == 0:\n",
    "    print(\"Account locked (demo). Please try later\") "
   ]
  },
  {
   "cell_type": "markdown",
   "id": "a56eb3e1-f36a-44e7-b009-7c654da0c7a3",
   "metadata": {},
   "source": [
    "## Task 5: Multiplication Table (1 to 10)"
   ]
  },
  {
   "cell_type": "code",
   "execution_count": 32,
   "id": "76a79e88-8c28-4e00-81ca-93fa5d7df181",
   "metadata": {},
   "outputs": [
    {
     "name": "stdout",
     "output_type": "stream",
     "text": [
      "Enter a number for table:  5\n",
      "Enter a end limit of table:  10\n"
     ]
    },
    {
     "name": "stdout",
     "output_type": "stream",
     "text": [
      "5 x 1 = 5\n",
      "5 x 2 = 10\n",
      "5 x 3 = 15\n",
      "5 x 4 = 20\n",
      "5 x 5 = 25\n",
      "5 x 6 = 30\n",
      "5 x 7 = 35\n",
      "5 x 8 = 40\n",
      "5 x 9 = 45\n",
      "5 x 10 = 50\n"
     ]
    }
   ],
   "source": [
    "num = int(input(\"Enter a number for table: \")) # input number from user\n",
    "M = int(input(\"Enter a end limit of table: \")) # input ending limit of table\n",
    "\n",
    "for i in range(1, M+1):\n",
    "    print(f\"{num} x {i} = {num * i}\") "
   ]
  },
  {
   "cell_type": "markdown",
   "id": "90a18d8c-6618-4ae5-967d-535bb4620d36",
   "metadata": {},
   "source": [
    "## Task 6: Number Guessing Game (hints)"
   ]
  },
  {
   "cell_type": "code",
   "execution_count": 40,
   "id": "5275a330-24ec-4390-8f58-eab5026bdb1f",
   "metadata": {},
   "outputs": [
    {
     "name": "stdout",
     "output_type": "stream",
     "text": [
      "I am thinking for a number between 1 and 20...\n"
     ]
    },
    {
     "name": "stdout",
     "output_type": "stream",
     "text": [
      "Your guess:  1\n"
     ]
    },
    {
     "name": "stdout",
     "output_type": "stream",
     "text": [
      "Too low, try again\n"
     ]
    },
    {
     "name": "stdout",
     "output_type": "stream",
     "text": [
      "Your guess:  3\n"
     ]
    },
    {
     "name": "stdout",
     "output_type": "stream",
     "text": [
      "Too low, try again\n"
     ]
    },
    {
     "name": "stdout",
     "output_type": "stream",
     "text": [
      "Your guess:  4\n"
     ]
    },
    {
     "name": "stdout",
     "output_type": "stream",
     "text": [
      "Too low, try again\n"
     ]
    },
    {
     "name": "stdout",
     "output_type": "stream",
     "text": [
      "Your guess:  6\n"
     ]
    },
    {
     "name": "stdout",
     "output_type": "stream",
     "text": [
      "Too low, try again\n"
     ]
    },
    {
     "name": "stdout",
     "output_type": "stream",
     "text": [
      "Your guess:  10\n"
     ]
    },
    {
     "name": "stdout",
     "output_type": "stream",
     "text": [
      "Too low, try again\n",
      "Your attempts are finished, try again later\n"
     ]
    }
   ],
   "source": [
    "# import the random library\n",
    "import random\n",
    "\n",
    "secret = random.randint(1, 20) # secret number [1, 20]\n",
    "print(\"I am thinking for a number between 1 and 20...\")\n",
    "\n",
    "attempts = 5\n",
    "while True:\n",
    "    guess = int(input(\"Your guess: \"))\n",
    "\n",
    "    if guess == secret:\n",
    "        print(\"Correct 🎉 You guessed it\")\n",
    "        break\n",
    "    elif guess < secret:\n",
    "        print(\"Too low, try again\")\n",
    "    else:\n",
    "        print(\"Too high, try again\")\n",
    "    \n",
    "    attempts -= 1\n",
    "    if attempts == 0:\n",
    "        print(\"Your attempts are finished, try again later\")\n",
    "        break"
   ]
  }
 ],
 "metadata": {
  "kernelspec": {
   "display_name": "Python [conda env:base] *",
   "language": "python",
   "name": "conda-base-py"
  },
  "language_info": {
   "codemirror_mode": {
    "name": "ipython",
    "version": 3
   },
   "file_extension": ".py",
   "mimetype": "text/x-python",
   "name": "python",
   "nbconvert_exporter": "python",
   "pygments_lexer": "ipython3",
   "version": "3.13.5"
  }
 },
 "nbformat": 4,
 "nbformat_minor": 5
}
