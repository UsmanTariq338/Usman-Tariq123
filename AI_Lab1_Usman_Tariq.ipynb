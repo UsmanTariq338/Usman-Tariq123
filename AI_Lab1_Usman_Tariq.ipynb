{
 "cells": [
  {
   "cell_type": "markdown",
   "id": "4ca7c4b0-a8f0-488d-a8ce-f5ec8737a28f",
   "metadata": {},
   "source": [
    "# AI LAB -- Week 1"
   ]
  },
  {
   "cell_type": "markdown",
   "id": "84212225-93c0-40d2-9b1b-8215b49a0b5e",
   "metadata": {},
   "source": [
    "## Write a simple Hello AI world program"
   ]
  },
  {
   "cell_type": "code",
   "execution_count": 5,
   "id": "34a58d6f-6f11-4cbd-b5e6-82eb485a4902",
   "metadata": {},
   "outputs": [
    {
     "name": "stdout",
     "output_type": "stream",
     "text": [
      "Hello AI world!\n"
     ]
    }
   ],
   "source": [
    "print(\"Hello AI world!\")"
   ]
  },
  {
   "cell_type": "markdown",
   "id": "53b95a6b-1148-44dc-a4ff-2d67c21c3b87",
   "metadata": {},
   "source": [
    "## Python Basics"
   ]
  },
  {
   "cell_type": "markdown",
   "id": "da7fb50c-623b-4370-832f-c9cdffd7b980",
   "metadata": {},
   "source": [
    "## Task 1: Variables & Data types"
   ]
  },
  {
   "cell_type": "code",
   "execution_count": 11,
   "id": "459aeda3-3baa-4e34-84d5-eff5bcf22e7a",
   "metadata": {},
   "outputs": [
    {
     "name": "stdout",
     "output_type": "stream",
     "text": [
      "Name: Usman Tariq\n",
      "Roll no: 12\n",
      "CGPA: 3.92\n"
     ]
    }
   ],
   "source": [
    "# Store student info\n",
    "name = \"Usman Tariq\"\n",
    "roll_no = 12\n",
    "cgpa = 3.92\n",
    "\n",
    "print(f\"Name: {name}\")\n",
    "print(f\"Roll no: {roll_no}\")\n",
    "print(f\"CGPA: {cgpa}\")"
   ]
  },
  {
   "cell_type": "markdown",
   "id": "785ba506-c405-4532-8a57-882f558c3fe4",
   "metadata": {},
   "source": [
    "## Task 2 -- Loops"
   ]
  },
  {
   "cell_type": "code",
   "execution_count": 7,
   "id": "7f9ab471-fa0f-48c4-ae42-cace6ab329b7",
   "metadata": {},
   "outputs": [
    {
     "name": "stdout",
     "output_type": "stream",
     "text": [
      "0\n",
      "2\n",
      "4\n",
      "6\n",
      "8\n",
      "10\n"
     ]
    }
   ],
   "source": [
    "# print number 1 to 10\n",
    "for i in range(0, 11, 2):\n",
    "    print(i)"
   ]
  },
  {
   "cell_type": "markdown",
   "id": "79d13e47-ca2c-423d-bfea-e84cddc1b1e6",
   "metadata": {},
   "source": [
    "## Task 3 -- Functions"
   ]
  },
  {
   "cell_type": "code",
   "execution_count": 8,
   "id": "110bdc72-25b5-46ad-83cb-00fdd344d791",
   "metadata": {},
   "outputs": [
    {
     "ename": "ValueError",
     "evalue": "invalid literal for int() with base 10: ''",
     "output_type": "error",
     "traceback": [
      "\u001b[31m---------------------------------------------------------------------------\u001b[39m",
      "\u001b[31mValueError\u001b[39m                                Traceback (most recent call last)",
      "\u001b[36mCell\u001b[39m\u001b[36m \u001b[39m\u001b[32mIn[8]\u001b[39m\u001b[32m, line 8\u001b[39m\n\u001b[32m      5\u001b[39m         fact = fact * i\n\u001b[32m      6\u001b[39m     \u001b[38;5;28;01mreturn\u001b[39;00m fact\n\u001b[32m----> \u001b[39m\u001b[32m8\u001b[39m number = \u001b[38;5;28;43mint\u001b[39;49m\u001b[43m(\u001b[49m\u001b[38;5;28;43minput\u001b[39;49m\u001b[43m(\u001b[49m\u001b[33;43m\"\u001b[39;49m\u001b[33;43mEnter a number: \u001b[39;49m\u001b[33;43m\"\u001b[39;49m\u001b[43m)\u001b[49m\u001b[43m)\u001b[49m\u001b[38;5;66;03m# input number from user\u001b[39;00m\n\u001b[32m      9\u001b[39m \u001b[38;5;28mprint\u001b[39m(\u001b[33mf\u001b[39m\u001b[33m\"\u001b[39m\u001b[33mFactorial of \u001b[39m\u001b[38;5;132;01m{\u001b[39;00mnumber\u001b[38;5;132;01m}\u001b[39;00m\u001b[33m:\u001b[39m\u001b[33m\"\u001b[39m, factorial(number)) \n",
      "\u001b[31mValueError\u001b[39m: invalid literal for int() with base 10: ''"
     ]
    }
   ],
   "source": [
    "# function to calculate factorial\n",
    "def factorial(n):\n",
    "    fact = 1;\n",
    "    for i in range(1, n+1):\n",
    "        fact = fact * i\n",
    "    return fact\n",
    "    \n",
    "number = int(input(\"Enter a number: \"))# input number from user\n",
    "print(f\"Factorial of {number}:\", factorial(number)) "
   ]
  },
  {
   "cell_type": "markdown",
   "id": "c981e616-e11f-4286-aa1e-312cbf7218cf",
   "metadata": {},
   "source": [
    "## Part 3 Mini AI concept"
   ]
  },
  {
   "cell_type": "code",
   "execution_count": null,
   "id": "eb2312fa-5236-4664-b116-3e499a72dd4e",
   "metadata": {},
   "outputs": [
    {
     "name": "stdout",
     "output_type": "stream",
     "text": [
      "Enter marks:  80\n"
     ]
    },
    {
     "name": "stdout",
     "output_type": "stream",
     "text": [
      "Grade A\n"
     ]
    }
   ],
   "source": [
    "marks = int(input(\"Enter marks: \")) # input marks from the user\n",
    "\n",
    "# Checking the grades\n",
    "if marks >= 80:\n",
    "    print(\"Grade A\")\n",
    "elif marks >= 60:\n",
    "    print(\"Grade B\")\n",
    "elif marks >= 50:\n",
    "    print(\"Grade C\")\n",
    "elif marks < 50:\n",
    "    print(\"Fail\")"
   ]
  }
 ],
 "metadata": {
  "kernelspec": {
   "display_name": ".venv",
   "language": "python",
   "name": "python3"
  },
  "language_info": {
   "codemirror_mode": {
    "name": "ipython",
    "version": 3
   },
   "file_extension": ".py",
   "mimetype": "text/x-python",
   "name": "python",
   "nbconvert_exporter": "python",
   "pygments_lexer": "ipython3",
   "version": "3.13.7"
  }
 },
 "nbformat": 4,
 "nbformat_minor": 5
}
